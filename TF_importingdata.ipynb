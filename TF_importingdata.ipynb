{
 "cells": [
  {
   "cell_type": "code",
   "execution_count": 2,
   "metadata": {},
   "outputs": [],
   "source": [
    "import tensorflow as tf\n",
    "import pandas as pd\n",
    "import numpy as np\n",
    "import sys\n",
    "from sklearn.utils import shuffle\n",
    "from tensorflow.d"
   ]
  },
  {
   "cell_type": "code",
   "execution_count": 3,
   "metadata": {},
   "outputs": [
    {
     "name": "stdout",
     "output_type": "stream",
     "text": [
      "Imported data has shape (1078, 26596) and size of 229432900 bytes\n"
     ]
    }
   ],
   "source": [
    "data = pd.read_csv('/Users/dawnstear/desktop/chop_cellpred/data.csv')\n",
    "# '{:-9} YES votes  {:2.2%}'.format(yes_votes, percentage)\n",
    "shape = np.shape(data)\n",
    "bytesize = sys.getsizeof(data)\n",
    "print('Imported data has shape {} and size of {} bytes'.format(shape, bytesize))\n"
   ]
  },
  {
   "cell_type": "code",
   "execution_count": 12,
   "metadata": {},
   "outputs": [
    {
     "ename": "AttributeError",
     "evalue": "module 'tensorflow' has no attribute 'data'",
     "output_type": "error",
     "traceback": [
      "\u001b[0;31m---------------------------------------------------------------------------\u001b[0m",
      "\u001b[0;31mAttributeError\u001b[0m                            Traceback (most recent call last)",
      "\u001b[0;32m<ipython-input-12-cb72b886bc9d>\u001b[0m in \u001b[0;36m<module>\u001b[0;34m()\u001b[0m\n\u001b[1;32m      4\u001b[0m \u001b[0my_\u001b[0m \u001b[0;34m=\u001b[0m \u001b[0mdata_shuffled\u001b[0m\u001b[0;34m[\u001b[0m\u001b[0;34m'Labels'\u001b[0m\u001b[0;34m]\u001b[0m\u001b[0;34m\u001b[0m\u001b[0m\n\u001b[1;32m      5\u001b[0m \u001b[0;31m#tf.contrib.data.Dataset.from_tensor_slices((X_, y_))\u001b[0m\u001b[0;34m\u001b[0m\u001b[0;34m\u001b[0m\u001b[0m\n\u001b[0;32m----> 6\u001b[0;31m \u001b[0mtf\u001b[0m\u001b[0;34m.\u001b[0m\u001b[0mdata\u001b[0m\u001b[0;34m.\u001b[0m\u001b[0mDataset\u001b[0m\u001b[0;34m.\u001b[0m\u001b[0mfrom_tensor_slices\u001b[0m\u001b[0;34m(\u001b[0m\u001b[0;34m(\u001b[0m\u001b[0mX_\u001b[0m\u001b[0;34m,\u001b[0m \u001b[0my_\u001b[0m\u001b[0;34m)\u001b[0m\u001b[0;34m)\u001b[0m \u001b[0;31m# use this\u001b[0m\u001b[0;34m\u001b[0m\u001b[0m\n\u001b[0m",
      "\u001b[0;31mAttributeError\u001b[0m: module 'tensorflow' has no attribute 'data'"
     ]
    }
   ],
   "source": [
    "data_shuffled = shuffle(data)\n",
    "X_ = data_shuffled.drop('Labels',axis=1)\n",
    "X_ = data_shuffled.drop('TYPE',axis=1)\n",
    "y_ = data_shuffled['Labels']\n",
    "#tf.contrib.data.Dataset.from_tensor_slices((X_, y_))\n",
    "tf.data.Dataset.from_tensor_slices((X_, y_)) # use this"
   ]
  },
  {
   "cell_type": "code",
   "execution_count": null,
   "metadata": {},
   "outputs": [],
   "source": [
    "# Create batches of data\n",
    "dataset = dataset.batch(batch_size)\n",
    "# Create an iterator, to go over the dataset\n",
    "iterator = dataset.make_initializable_iterator()\n",
    "# It is better to use 2 placeholders, to avoid to load all data into memory,\n",
    "# and avoid the 2Gb restriction length of a tensor.\n",
    "_data = tf.placeholder(tf.float32, [None, n_input])\n",
    "_labels = tf.placeholder(tf.float32, [None, n_classes])\n",
    "# Initialize the iterator\n",
    "sess.run(iterator.initializer, feed_dict={_data: mnist.train.images,\n",
    "                                          _labels: mnist.train.labels})\n",
    "\n",
    "# Neural Net Input\n",
    "X, Y = iterator.get_next()"
   ]
  },
  {
   "cell_type": "code",
   "execution_count": 11,
   "metadata": {},
   "outputs": [
    {
     "data": {
      "text/plain": [
       "'1.1.0'"
      ]
     },
     "execution_count": 11,
     "metadata": {},
     "output_type": "execute_result"
    }
   ],
   "source": [
    "tf.__version__"
   ]
  },
  {
   "cell_type": "code",
   "execution_count": null,
   "metadata": {},
   "outputs": [],
   "source": []
  }
 ],
 "metadata": {
  "kernelspec": {
   "display_name": "Python 3",
   "language": "python",
   "name": "python3"
  },
  "language_info": {
   "codemirror_mode": {
    "name": "ipython",
    "version": 3
   },
   "file_extension": ".py",
   "mimetype": "text/x-python",
   "name": "python",
   "nbconvert_exporter": "python",
   "pygments_lexer": "ipython3",
   "version": "3.6.5"
  }
 },
 "nbformat": 4,
 "nbformat_minor": 2
}
